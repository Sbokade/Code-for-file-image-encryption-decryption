{
 "cells": [
  {
   "cell_type": "code",
   "execution_count": 8,
   "metadata": {},
   "outputs": [
    {
     "name": "stdout",
     "output_type": "stream",
     "text": [
      "Hey!\n",
      "\t 1) Encryption\n",
      "\t2) Decryption\n",
      "What do you wanna do?2\n",
      "Location:J.JPG\n",
      "TDES key: Swarali123\n",
      "Your file has been transformed! :) \n"
     ]
    }
   ],
   "source": [
    "from Crypto.Cipher import DES3\n",
    "from hashlib import md5\n",
    "while True:\n",
    "    print('Hey!\\n\\t 1) Encryption\\n\\t2) Decryption')\n",
    "    perform = input('What do you wanna do?')\n",
    "    if perform not in ['1', '2']:\n",
    "        break\n",
    "    location = input('Location:')\n",
    "    key = input('TDES key: ')\n",
    "    key_hash = md5(key.encode('ascii')).digest()\n",
    "    tdes_key = DES3.adjust_key_parity(key_hash)\n",
    "    cipher = DES3.new(tdes_key, DES3.MODE_EAX, nonce=b'0')\n",
    "    with open(location, 'rb') as i1 :\n",
    "        temp = i1.read()\n",
    "        if perform == '2':\n",
    "            ntemp = cipher.decrypt(temp)\n",
    "        else:\n",
    "            ntemp = cipher.encrypt(temp)\n",
    "    with open(location, 'wb') as i2:\n",
    "        i2.write(ntemp)\n",
    "        print('Your file has been transformed! :) ')\n",
    "        break\n",
    "        "
   ]
  },
  {
   "cell_type": "code",
   "execution_count": null,
   "metadata": {},
   "outputs": [],
   "source": []
  }
 ],
 "metadata": {
  "kernelspec": {
   "display_name": "Python 3",
   "language": "python",
   "name": "python3"
  },
  "language_info": {
   "codemirror_mode": {
    "name": "ipython",
    "version": 3
   },
   "file_extension": ".py",
   "mimetype": "text/x-python",
   "name": "python",
   "nbconvert_exporter": "python",
   "pygments_lexer": "ipython3",
   "version": "3.8.3"
  }
 },
 "nbformat": 4,
 "nbformat_minor": 4
}
